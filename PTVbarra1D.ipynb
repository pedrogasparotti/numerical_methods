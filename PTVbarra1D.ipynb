{
 "cells": [
  {
   "cell_type": "markdown",
   "metadata": {},
   "source": [
    "## Solução da Barra 1D engastada-engastada via PTV"
   ]
  },
  {
   "cell_type": "code",
   "execution_count": 1,
   "metadata": {},
   "outputs": [],
   "source": [
    "# Importar biblioteca\n",
    "from sympy import *\n",
    "import numpy as np\n",
    "import matplotlib.pyplot as plt "
   ]
  },
  {
   "cell_type": "code",
   "execution_count": 2,
   "metadata": {},
   "outputs": [],
   "source": [
    "# Declarar variáveis (*q(x)=q0*x)\n",
    "x, L, q0, E, A, So = symbols('x L q0 E A So')\n",
    "# Declarar funções de aproximação\n",
    "phi = Matrix([[x*(x-L), x*(x-L)**2]])\n",
    "dphi = diff(phi,x)\n",
    "# Número de funções de aproximação\n",
    "n=2"
   ]
  },
  {
   "cell_type": "markdown",
   "metadata": {},
   "source": [
    "Construção da matriz $\\mathbf{K}$ e do vetor $\\mathbf{F}$, onde:\n",
    "\n",
    "$K_{ij} = \\int_{0}^{L} \\Phi_i'  EA  \\Phi_j'   dx$   \n",
    "$F_i    = \\int_{0}^{L} \\Phi_i q_0 dx$"
   ]
  },
  {
   "cell_type": "code",
   "execution_count": 3,
   "metadata": {},
   "outputs": [
    {
     "name": "stdout",
     "output_type": "stream",
     "text": [
      "O vetor de coeficientes é:\n",
      "Matrix([[-L*q0/(3*A*E)], [-q0/(6*A*E)]])\n"
     ]
    }
   ],
   "source": [
    "# Loop para construção de K e F\n",
    "K=zeros(n,n)\n",
    "F=zeros(n,1)\n",
    "for i in range(n):\n",
    "    for j in range(n):\n",
    "        aux=integrate(dphi[i]*E*A*dphi[j], (x, 0, L))\n",
    "        K[i,j]=aux\n",
    "    aux2=integrate(phi[i]*q0*x, (x, 0, L))\n",
    "    F[i]=aux2\n",
    "# Solução do sistema de equações\n",
    "c=simplify(K.inv()*F)\n",
    "print('O vetor de coeficientes é:')\n",
    "print(c)"
   ]
  },
  {
   "cell_type": "code",
   "execution_count": 4,
   "metadata": {},
   "outputs": [
    {
     "name": "stdout",
     "output_type": "stream",
     "text": [
      "Pi = \n"
     ]
    },
    {
     "data": {
      "text/latex": [
       "$\\displaystyle \\left[\\begin{matrix}-27.0\\end{matrix}\\right]$"
      ],
      "text/plain": [
       "Matrix([[-27.0]])"
      ]
     },
     "execution_count": 4,
     "metadata": {},
     "output_type": "execute_result"
    }
   ],
   "source": [
    "# Calcular Energia Potencial Total\n",
    "u = phi*c\n",
    "du = diff(u,x)\n",
    "F = (E*A/2)*(du**2)-q0*x*u\n",
    "# Intregração de F\n",
    "Pi=simplify(integrate(F, (x, 0, L)))#-(-c*L**3/6+c*L**2*L/2+A*S0*L)/(E*A)*S0*A\n",
    "print('Pi = ')\n",
    "Pi.subs([(E, 200e9), (A, 50e-6), (q0, 10e3), (L, 3)])"
   ]
  },
  {
   "cell_type": "code",
   "execution_count": null,
   "metadata": {},
   "outputs": [],
   "source": []
  }
 ],
 "metadata": {
  "kernelspec": {
   "display_name": "Python 3 (ipykernel)",
   "language": "python",
   "name": "python3"
  },
  "language_info": {
   "codemirror_mode": {
    "name": "ipython",
    "version": 3
   },
   "file_extension": ".py",
   "mimetype": "text/x-python",
   "name": "python",
   "nbconvert_exporter": "python",
   "pygments_lexer": "ipython3",
   "version": "3.9.7"
  }
 },
 "nbformat": 4,
 "nbformat_minor": 4
}
