{
 "cells": [
  {
   "cell_type": "markdown",
   "metadata": {},
   "source": [
    "## Solução da Barra 1D engastada-engastada via PTV"
   ]
  },
  {
   "cell_type": "code",
   "execution_count": 14,
   "metadata": {},
   "outputs": [],
   "source": [
    "# Importar biblioteca\n",
    "from sympy import *\n",
    "import numpy as np\n",
    "import matplotlib.pyplot as plt "
   ]
  },
  {
   "cell_type": "code",
   "execution_count": 41,
   "metadata": {},
   "outputs": [
    {
     "name": "stdout",
     "output_type": "stream",
     "text": [
      "Matrix([[2, 6*x, -6*L*x + 12*x**2]])\n"
     ]
    }
   ],
   "source": [
    "# Declarar variáveis (*q(x)=q0*x)\n",
    "x, L, q0, E, I = symbols('x L q0 E I')\n",
    "\n",
    "# Declarar funções de aproximação\n",
    "phi = Matrix([[x**2-L*x, x**3 - x*L**2, x**4-L*x**3]])\n",
    "dphi = diff(phi,x)\n",
    "d2phi = diff(dphi,x)\n",
    "\n",
    "# Número de funções de aproximação\n",
    "n=3\n",
    "\n",
    "print(d2phi)"
   ]
  },
  {
   "cell_type": "markdown",
   "metadata": {},
   "source": [
    "Construção da matriz $\\mathbf{K}$ e do vetor $\\mathbf{F}$, onde:\n",
    "\n",
    "$K_{ij} = \\int_{0}^{L} \\Phi_i'  EI '   dx$   \n",
    "$F_i    = \\int_{0}^{L} \\Phi_i q_0 dx$"
   ]
  },
  {
   "cell_type": "code",
   "execution_count": 42,
   "metadata": {},
   "outputs": [
    {
     "name": "stdout",
     "output_type": "stream",
     "text": [
      "O vetor de coeficientes é:\n",
      "Matrix([[0], [-L*q0/(24*E*I)], [q0/(24*E*I)]])\n"
     ]
    }
   ],
   "source": [
    "# Loop para construção de K e F\n",
    "K=zeros(n,n)\n",
    "F=zeros(n,1)\n",
    "\n",
    "for i in range(n):\n",
    "    for j in range(n):\n",
    "        aux=integrate(d2phi[i]*E*I*d2phi[j], (x, 0, L))\n",
    "        K[i,j]=aux\n",
    "    aux2=integrate(phi[i]*q0, (x, 0, L))\n",
    "    F[i]=aux2\n",
    "    \n",
    "# Solução do sistema de equações\n",
    "c=simplify(K.inv()*F)\n",
    "print('O vetor de coeficientes é:')\n",
    "print(c)"
   ]
  },
  {
   "cell_type": "code",
   "execution_count": 43,
   "metadata": {},
   "outputs": [
    {
     "name": "stdout",
     "output_type": "stream",
     "text": [
      "Pi = \n"
     ]
    },
    {
     "data": {
      "text/latex": [
       "$\\displaystyle \\left[\\begin{matrix}-0.791015625\\end{matrix}\\right]$"
      ],
      "text/plain": [
       "Matrix([[-0.791015625]])"
      ]
     },
     "execution_count": 43,
     "metadata": {},
     "output_type": "execute_result"
    }
   ],
   "source": [
    "# Calcular Energia Potencial Total\n",
    "v = phi*c\n",
    "dv = diff(v,x)\n",
    "d2v = diff(dv,x)\n",
    "\n",
    "F = (E*I/2)*(d2v**2)-q0*v\n",
    "# Intregração de F\n",
    "Pi=simplify(integrate(F, (x, 0, L)))#-(-c*L**3/6+c*L**2*L/2+A*S0*L)/(E*A)*S0*A\n",
    "print('Pi = ')\n",
    "Pi.subs([(E, 200e9), (I, .12*.4**3/12), (q0, 10e3), (L, 3)])"
   ]
  }
 ],
 "metadata": {
  "kernelspec": {
   "display_name": "Python 3",
   "language": "python",
   "name": "python3"
  },
  "language_info": {
   "codemirror_mode": {
    "name": "ipython",
    "version": 3
   },
   "file_extension": ".py",
   "mimetype": "text/x-python",
   "name": "python",
   "nbconvert_exporter": "python",
   "pygments_lexer": "ipython3",
   "version": "3.11.1"
  }
 },
 "nbformat": 4,
 "nbformat_minor": 4
}
