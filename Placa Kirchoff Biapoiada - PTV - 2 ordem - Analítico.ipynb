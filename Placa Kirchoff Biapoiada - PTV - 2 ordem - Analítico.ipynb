{
 "cells": [
  {
   "cell_type": "markdown",
   "metadata": {},
   "source": [
    "# Placa Kirchoff Biapoiada - PTV - 2 ordem - Analítico"
   ]
  },
  {
   "cell_type": "code",
   "execution_count": 1,
   "metadata": {},
   "outputs": [],
   "source": [
    "# Importar biblioteca\n",
    "from sympy import *\n",
    "import numpy as np\n",
    "import matplotlib.pyplot as plt"
   ]
  },
  {
   "cell_type": "code",
   "execution_count": 2,
   "metadata": {},
   "outputs": [],
   "source": [
    "# Declarar variáveis\n",
    "x, y, h, q0, E, v, a , b, v= symbols('x y h q0 E v a b v')\n",
    "# Declarar funções de aproximação\n",
    "phi = Matrix([[x*(x-a)**1*y*(y-b)**1, x*(x-a)**1*y*(y-b)**2, x*(x-a)**2*y*(y-b)**1, x*(x-a)**2*y*(y-b)**2]])\n",
    "dphixx = diff(phi,x,x)\n",
    "dphiyy = diff(phi,y,y)\n",
    "dphixy = diff(phi,x,y)\n",
    "D = E*h**3/(12*(1-v)**2)\n",
    "# Número de funções de aproximação\n",
    "n=4"
   ]
  },
  {
   "cell_type": "markdown",
   "metadata": {},
   "source": [
    "Construção da matriz $\\mathbf{K}$ e do vetor $\\mathbf{F}$, onde:\n",
    "\n",
    "$K_{ij} = D \\int_{0}^{b} \\int_{0}^{a} \\Phi xx_i (\\Phi xx_j + v \\Phi yy_j) + \\Phi yy_i (\\Phi yy_j + v \\Phi xx_j) + 2 (1-v) \\Phi xy_i \\Phi xy_j dx dy$   \n",
    "$F_i    = \\int_{0}^{b} \\int_{0}^{a} \\Phi_i q_0 dx dy$"
   ]
  },
  {
   "cell_type": "code",
   "execution_count": 3,
   "metadata": {},
   "outputs": [
    {
     "name": "stdout",
     "output_type": "stream",
     "text": [
      "c =\n",
      "Matrix([[15*a**2*b**2*q0*(v**2 - 2*v + 1)/(2*E*h**3*(3*a**4 + 5*a**2*b**2 + 3*b**4))], [0], [0], [0]])\n"
     ]
    }
   ],
   "source": [
    "# Loop para construção de K e F\n",
    "K=zeros(n,n)\n",
    "F=zeros(n,1)\n",
    "for i in range(n):\n",
    "    for j in range(n):\n",
    "        aux=integrate(integrate(dphixx[i]*(dphixx[j]+v*dphiyy[j])+dphiyy[i]*(dphiyy[j]+v*dphixx[j])+2*(1-v)*dphixy[i]*dphixy[j], (x, 0, a)), (y, 0, b))\n",
    "        if i<=j:\n",
    "            K[i,j]=D*aux\n",
    "        else:\n",
    "            K[i,j]=K[j,i]\n",
    "    aux2=integrate(integrate(phi[i]*q0, (x, 0, a)), (y, 0, b))\n",
    "    F[i]=aux2\n",
    "# Solução do sistema de equações\n",
    "c=simplify(K.inv()*F)\n",
    "print('c =')\n",
    "print(c)"
   ]
  },
  {
   "cell_type": "code",
   "execution_count": 4,
   "metadata": {},
   "outputs": [
    {
     "name": "stdout",
     "output_type": "stream",
     "text": [
      "w = \n",
      "15*a**2*b**2*q0*x*y*(-a + x)*(-b + y)*(v**2 - 2*v + 1)/(2*E*h**3*(3*a**4 + 5*a**2*b**2 + 3*b**4))\n"
     ]
    }
   ],
   "source": [
    "# Calcular w\n",
    "w = phi*c\n",
    "f = np.squeeze(np.asarray(w))\n",
    "print('w = ')\n",
    "print(f)"
   ]
  },
  {
   "cell_type": "code",
   "execution_count": 5,
   "metadata": {},
   "outputs": [
    {
     "name": "stdout",
     "output_type": "stream",
     "text": [
      "Pi = \n"
     ]
    },
    {
     "data": {
      "text/latex": [
       "$\\displaystyle \\left[\\begin{matrix}-1.21638787878788 \\cdot 10^{-5}\\end{matrix}\\right]$"
      ],
      "text/plain": [
       "Matrix([[-1.21638787878788e-5]])"
      ]
     },
     "execution_count": 5,
     "metadata": {},
     "output_type": "execute_result"
    }
   ],
   "source": [
    "# Calcular Energia Potencial Total\n",
    "Pi=D*0.5*(integrate(integrate((w.diff(x,x)+w.diff(y,y))**2+2*(1-v)*(w.diff(x,y)**2-w.diff(x,x)*w.diff(y,y))-q0*w*2/D, (x, 0, a)),(y, 0, b)))\n",
    "print('Pi = ')\n",
    "Pi.subs([(E, 200e6), (h, 0.02), (v, 0.3), (q0, 4), (a, 0.8), (b, 0.8)])"
   ]
  },
  {
   "cell_type": "code",
   "execution_count": null,
   "metadata": {},
   "outputs": [],
   "source": []
  }
 ],
 "metadata": {
  "kernelspec": {
   "display_name": "Python 3 (ipykernel)",
   "language": "python",
   "name": "python3"
  },
  "language_info": {
   "codemirror_mode": {
    "name": "ipython",
    "version": 3
   },
   "file_extension": ".py",
   "mimetype": "text/x-python",
   "name": "python",
   "nbconvert_exporter": "python",
   "pygments_lexer": "ipython3",
   "version": "3.9.13"
  }
 },
 "nbformat": 4,
 "nbformat_minor": 4
}
