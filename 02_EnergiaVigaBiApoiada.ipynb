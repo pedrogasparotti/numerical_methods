{
 "cells": [
  {
   "cell_type": "markdown",
   "metadata": {},
   "source": [
    "## Rotina para cálculo da energia potencial total utilizando computação simbólica\n",
    "### Viga de Euler-Bernoulli bi-apoiada"
   ]
  },
  {
   "cell_type": "code",
   "execution_count": 1,
   "metadata": {},
   "outputs": [],
   "source": [
    "# Importar todos os comandos da biblioteca sympy\n",
    "from sympy import *\n",
    "# Para uma impressão mais elegante:\n",
    "init_printing(use_unicode=True)\n",
    "# Declarar variáveis simbólicas\n",
    "x = Symbol('x')\n",
    "E = Symbol('E')\n",
    "I = Symbol('I')\n",
    "L,q = symbols('L q')"
   ]
  },
  {
   "cell_type": "markdown",
   "metadata": {},
   "source": [
    "### Cálculo de $\\Pi = U + W$"
   ]
  },
  {
   "cell_type": "code",
   "execution_count": 2,
   "metadata": {},
   "outputs": [
    {
     "data": {
      "image/png": "[encoded data removed]",
      "text/latex": [
       "$$- \\frac{L^{5} q^{2}}{240 E I}$$"
      ],
      "text/plain": [
       "  5  2 \n",
       "-L ⋅q  \n",
       "───────\n",
       "240⋅E⋅I"
      ]
     },
     "execution_count": 2,
     "metadata": {},
     "output_type": "execute_result"
    }
   ],
   "source": [
    "# Solução analítica da ED da Viga de Euler-Bernoulli bi-apoiada (v) e sua derivada segunda (d2v)\n",
    "v=q/(24*E*I)*(x**4 - 2*L*x**3 + L**3*x)\n",
    "dv=diff(v,x)\n",
    "d2v=diff(dv,x) \n",
    "# F = U+W\n",
    "F = (E*I/2)*(d2v**2)-v*q\n",
    "# Intregração de F\n",
    "integrate(F, (x, 0, L))"
   ]
  },
  {
   "cell_type": "markdown",
   "metadata": {},
   "source": [
    "### Impressão do resultado numérico"
   ]
  },
  {
   "cell_type": "code",
   "execution_count": 4,
   "metadata": {},
   "outputs": [
    {
     "name": "stdout",
     "output_type": "stream",
     "text": [
      "Pi = \n"
     ]
    },
    {
     "data": {
      "image/png": "[encoded data removed]",
      "text/latex": [
       "$$-42.6666666666666$$"
      ],
      "text/plain": [
       "-42.6666666666666"
      ]
     },
     "execution_count": 4,
     "metadata": {},
     "output_type": "execute_result"
    }
   ],
   "source": [
    "Pi=integrate(F, (x, 0, L))\n",
    "print('Pi = ')\n",
    "Pi.subs([(E, 50e9), (I, .15*.4**3/12), (q, 20e3), (L, 4)])"
   ]
  },
  {
   "cell_type": "code",
   "execution_count": null,
   "metadata": {},
   "outputs": [],
   "source": []
  }
 ],
 "metadata": {
  "kernelspec": {
   "display_name": "Python 3",
   "language": "python",
   "name": "python3"
  },
  "language_info": {
   "codemirror_mode": {
    "name": "ipython",
    "version": 3
   },
   "file_extension": ".py",
   "mimetype": "text/x-python",
   "name": "python",
   "nbconvert_exporter": "python",
   "pygments_lexer": "ipython3",
   "version": "3.7.3"
  }
 },
 "nbformat": 4,
 "nbformat_minor": 4
}
