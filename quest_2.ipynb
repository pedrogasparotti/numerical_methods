{
 "cells": [
  {
   "cell_type": "code",
   "execution_count": 1,
   "metadata": {},
   "outputs": [],
   "source": [
    "from sympy import symbols, integrate, Matrix, solve, sin, pi\n",
    "import numpy as np\n",
    "import matplotlib.pyplot as plt\n",
    "\n",
    "# Define constants\n",
    "E = 200e9  # Pa\n",
    "nu = 0.3\n",
    "h = 0.2  # m\n",
    "q0 = 5e3  # N/m^2\n",
    "a = 8  # m\n",
    "b = 8  # m\n",
    "D = E * h**3 / (12 * (1 - nu**2))  # Flexural rigidity ≈ 1.4652e8 N·m\n",
    "\n",
    "# Define symbolic variables\n",
    "x, y = symbols('x y')\n",
    "c11, c12, c21, c22 = symbols('c11 c12 c21 c22')\n",
    "\n",
    "# Basis functions for Ritz method\n",
    "phi = [(sin(i * pi * x / a) * sin(j * pi * y / b)) for i in [1, 2] for j in [1, 2]]\n"
   ]
  },
  {
   "cell_type": "code",
   "execution_count": 2,
   "metadata": {},
   "outputs": [],
   "source": [
    "# Compute K_ij and F_i for Ritz method\n",
    "def compute_system(n):\n",
    "    K = Matrix.zeros(n, n)\n",
    "    F = Matrix.zeros(n, 1)\n",
    "    for i in range(n):\n",
    "        for j in range(n):\n",
    "            w_xx = phi[i].diff(x, 2)\n",
    "            w_yy = phi[i].diff(y, 2)\n",
    "            v_xx = phi[j].diff(x, 2)\n",
    "            v_yy = phi[j].diff(y, 2)\n",
    "            w_xy = phi[i].diff(x, y)\n",
    "            v_xy = phi[j].diff(x, y)\n",
    "            integrand = D * (w_xx * v_xx + w_yy * v_yy + nu * (w_xx * v_yy + w_yy * v_xx) + 2 * (1 - nu) * w_xy * v_xy)\n",
    "            K[i, j] = integrate(integrand, (x, 0, a), (y, 0, b))\n",
    "        F[i] = integrate(q0 * phi[i], (x, 0, a), (y, 0, b))\n",
    "    return K, F"
   ]
  },
  {
   "cell_type": "code",
   "execution_count": 5,
   "metadata": {},
   "outputs": [],
   "source": [
    "# Compute Ritz approximations for n=1 and n=4\n",
    "solutions = {}\n",
    "for n in [1, 4]:\n",
    "    K, F = compute_system(n)\n",
    "    c = Matrix(symbols(f'c1:{n+1}'))\n",
    "    solution = solve(K * c - F, c)\n",
    "    w_approx = sum(solution.get(symbols(f'c{i+1}'), 0) * phi[i] for i in range(n))\n",
    "    solutions[n] = (K, F, solution, w_approx)"
   ]
  },
  {
   "cell_type": "code",
   "execution_count": 6,
   "metadata": {},
   "outputs": [
    {
     "ename": "TypeError",
     "evalue": "loop of ufunc does not support argument 0 of type Zero which has no callable sin method",
     "output_type": "error",
     "traceback": [
      "\u001b[31m---------------------------------------------------------------------------\u001b[39m",
      "\u001b[31mAttributeError\u001b[39m                            Traceback (most recent call last)",
      "\u001b[31mAttributeError\u001b[39m: 'Zero' object has no attribute 'sin'",
      "\nThe above exception was the direct cause of the following exception:\n",
      "\u001b[31mTypeError\u001b[39m                                 Traceback (most recent call last)",
      "\u001b[36mCell\u001b[39m\u001b[36m \u001b[39m\u001b[32mIn[6]\u001b[39m\u001b[32m, line 4\u001b[39m\n\u001b[32m      2\u001b[39m x_vals = np.linspace(\u001b[32m0\u001b[39m, a, \u001b[32m100\u001b[39m)\n\u001b[32m      3\u001b[39m y_val = b / \u001b[32m2\u001b[39m\n\u001b[32m----> \u001b[39m\u001b[32m4\u001b[39m w_analytical_vals = \u001b[43mw_analytical\u001b[49m\u001b[43m(\u001b[49m\u001b[43mx_vals\u001b[49m\u001b[43m,\u001b[49m\u001b[43m \u001b[49m\u001b[43my_val\u001b[49m\u001b[43m)\u001b[49m\n",
      "\u001b[36mCell\u001b[39m\u001b[36m \u001b[39m\u001b[32mIn[5]\u001b[39m\u001b[32m, line 8\u001b[39m, in \u001b[36mw_analytical\u001b[39m\u001b[34m(x_val, y_val, m_max, n_max)\u001b[39m\n\u001b[32m      6\u001b[39m             q_mn = \u001b[32m16\u001b[39m * q0 / (pi**\u001b[32m2\u001b[39m * m * n)\n\u001b[32m      7\u001b[39m             denom = D * pi**\u001b[32m4\u001b[39m * ((m**\u001b[32m2\u001b[39m / a**\u001b[32m2\u001b[39m) + (n**\u001b[32m2\u001b[39m / b**\u001b[32m2\u001b[39m))**\u001b[32m2\u001b[39m\n\u001b[32m----> \u001b[39m\u001b[32m8\u001b[39m             w += (q_mn / denom) * \u001b[43mnp\u001b[49m\u001b[43m.\u001b[49m\u001b[43msin\u001b[49m\u001b[43m(\u001b[49m\u001b[43mm\u001b[49m\u001b[43m \u001b[49m\u001b[43m*\u001b[49m\u001b[43m \u001b[49m\u001b[43mpi\u001b[49m\u001b[43m \u001b[49m\u001b[43m*\u001b[49m\u001b[43m \u001b[49m\u001b[43mx_val\u001b[49m\u001b[43m \u001b[49m\u001b[43m/\u001b[49m\u001b[43m \u001b[49m\u001b[43ma\u001b[49m\u001b[43m)\u001b[49m * np.sin(n * pi * y_val / b)\n\u001b[32m      9\u001b[39m \u001b[38;5;28;01mreturn\u001b[39;00m w\n",
      "\u001b[31mTypeError\u001b[39m: loop of ufunc does not support argument 0 of type Zero which has no callable sin method"
     ]
    }
   ],
   "source": [
    "# Analytical solution (Navier’s method)\n",
    "m, n = symbols('m n', integer=True)\n",
    "w_mn = (16 * q0 / (pi**2 * m * n)) / (D * pi**4 * ((m**2 / a**2) + (n**2 / b**2))**2) * sin(m * pi * x / a) * sin(n * pi * y / b)\n",
    "# Sum over odd m, n up to 5\n",
    "w_analytical = 0\n",
    "m_max, n_max = 5, 5\n",
    "for i in range(1, m_max + 1, 2):\n",
    "    for j in range(1, n_max + 1, 2):\n",
    "        w_analytical += w_mn.subs({m: i, n: j})"
   ]
  },
  {
   "cell_type": "code",
   "execution_count": null,
   "metadata": {},
   "outputs": [],
   "source": []
  }
 ],
 "metadata": {
  "kernelspec": {
   "display_name": ".venv",
   "language": "python",
   "name": "python3"
  },
  "language_info": {
   "codemirror_mode": {
    "name": "ipython",
    "version": 3
   },
   "file_extension": ".py",
   "mimetype": "text/x-python",
   "name": "python",
   "nbconvert_exporter": "python",
   "pygments_lexer": "ipython3",
   "version": "3.13.1"
  }
 },
 "nbformat": 4,
 "nbformat_minor": 2
}
