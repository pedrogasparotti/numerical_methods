{
 "cells": [
  {
   "cell_type": "code",
   "execution_count": 57,
   "metadata": {},
   "outputs": [],
   "source": [
    "from sympy import symbols, integrate, Matrix, solve, sin, pi, lambdify, pprint\n",
    "import numpy as np\n",
    "import matplotlib.pyplot as plt\n",
    "\n",
    "# Define constants\n",
    "E = 200e9  # Pa\n",
    "nu = 0.3\n",
    "h = 0.2  # m\n",
    "q0 = 4e3  # N/m^2\n",
    "a = 8  # m\n",
    "b = 8  # m\n",
    "D = E * h**3 / (12 * (1 - nu**2))  # Flexural rigidity ≈ 1.4652e8 N·m\n",
    "\n",
    "# Define symbolic variables\n",
    "x, y = symbols('x y')\n",
    "\n",
    "# Basis functions up to degree 6\n",
    "basis_indices = [(1,1), (2,1), (1,2), (2,2), (3,1), (1,3)]  # 6 terms\n",
    "phi = [x**(i-1) * (a-x) * y**(j-1) * (b-y) for i, j in basis_indices]"
   ]
  },
  {
   "cell_type": "code",
   "execution_count": 45,
   "metadata": {},
   "outputs": [],
   "source": [
    "# Compute K_ij and F_i\n",
    "def compute_system(n):\n",
    "    K = Matrix.zeros(n, n)\n",
    "    F = Matrix.zeros(n, 1)\n",
    "    for i in range(n):\n",
    "        for j in range(n):\n",
    "            w_xx = phi[i].diff(x, 2)\n",
    "            w_yy = phi[i].diff(y, 2)\n",
    "            v_xx = phi[j].diff(x, 2)\n",
    "            v_yy = phi[j].diff(y, 2)\n",
    "            w_xy = phi[i].diff(x, y)\n",
    "            v_xy = phi[j].diff(x, y)\n",
    "            integrand = D * (w_xx * v_xx + w_yy * v_yy + nu * (w_xx * v_yy + w_yy * v_xx) + 2 * (1 - nu) * w_xy * v_xy)\n",
    "            K[i, j] = integrate(integrand, (x, 0, a), (y, 0, b))\n",
    "        F[i] = integrate(q0 * phi[i], (x, 0, a), (y, 0, b))\n",
    "    return K, F"
   ]
  },
  {
   "cell_type": "code",
   "execution_count": 46,
   "metadata": {},
   "outputs": [],
   "source": [
    "# Compute potential energy\n",
    "def compute_potential_energy(K, F, solution, n):\n",
    "    c = Matrix([solution.get(symbols(f'c{i+1}'), 0) for i in range(n)])\n",
    "    return (0.5 * c.T * K * c - c.T * F)[0]"
   ]
  },
  {
   "cell_type": "code",
   "execution_count": 47,
   "metadata": {},
   "outputs": [],
   "source": [
    "# Compute Ritz approximations and potential energy\n",
    "solutions = {}\n",
    "potential_energies = []\n",
    "for n in range(1, 7):\n",
    "    K, F = compute_system(n)\n",
    "    c = Matrix(symbols(f'c1:{n+1}'))\n",
    "    solution = solve(K * c - F, c)\n",
    "    w_approx = sum(solution.get(symbols(f'c{i+1}'), 0) * phi[i] for i in range(n))\n",
    "    pi_energy = compute_potential_energy(K, F, solution, n)\n",
    "    solutions[n] = (K, F, solution, w_approx, pi_energy)\n",
    "    potential_energies.append(float(pi_energy.subs(a, 8).subs(b, 8).evalf()))"
   ]
  },
  {
   "cell_type": "code",
   "execution_count": 48,
   "metadata": {},
   "outputs": [],
   "source": [
    "# Analytical solution (Navier’s method)\n",
    "m, n = symbols('m n', integer=True)\n",
    "w_mn = (16 * q0 / (pi**2 * m * n)) / (D * pi**4 * ((m**2 / a**2) + (n**2 / b**2))**2) * sin(m * pi * x / a) * sin(n * pi * y / b)\n",
    "w_analytical = 0\n",
    "m_max, n_max = 5, 5\n",
    "for i in range(1, m_max + 1, 2):\n",
    "    for j in range(1, n_max + 1, 2):\n",
    "        w_analytical += w_mn.subs({m: i, n: j})\n",
    "w_analytical_func = lambdify((x, y), w_analytical.subs({a: 8, b: 8, D: D, q0: 5e3}), 'numpy')\n"
   ]
  },
  {
   "cell_type": "code",
   "execution_count": 49,
   "metadata": {},
   "outputs": [],
   "source": [
    "# Numerical evaluation along y = b/2\n",
    "x_vals = np.linspace(0, 8, 100)\n",
    "y_val = 4\n",
    "w_analytical_vals = w_analytical_func(x_vals, y_val)\n"
   ]
  },
  {
   "cell_type": "code",
   "execution_count": 50,
   "metadata": {},
   "outputs": [
    {
     "name": "stdout",
     "output_type": "stream",
     "text": [
      "(6, 6)\n"
     ]
    }
   ],
   "source": [
    "print(K.shape)"
   ]
  },
  {
   "cell_type": "code",
   "execution_count": 51,
   "metadata": {},
   "outputs": [
    {
     "name": "stdout",
     "output_type": "stream",
     "text": [
      "(6, 1)\n"
     ]
    }
   ],
   "source": [
    "print(F.shape)"
   ]
  },
  {
   "cell_type": "code",
   "execution_count": 52,
   "metadata": {},
   "outputs": [
    {
     "name": "stdout",
     "output_type": "stream",
     "text": [
      "Total Potential Energy for Each Order:\n",
      "Order 1 (Degree 5): -6.39e+02 J\n",
      "Order 2 (Degree 6): -6.94e+02 J\n",
      "Order 3 (Degree 6): -7.34e+02 J\n",
      "Order 4 (Degree 6): -7.36e+02 J\n",
      "Order 5 (Degree 6): -7.36e+02 J\n",
      "Order 6 (Degree 6): -7.37e+02 J\n"
     ]
    }
   ],
   "source": [
    "# Plot displacement\n",
    "plt.figure(figsize=(10, 6))\n",
    "plt.plot(x_vals, w_analytical_vals, 'k-', label='Analytical Solution', linewidth=2)\n",
    "for n in range(1, 7):\n",
    "    w_approx = solutions[n][3]\n",
    "    w_approx_func = lambdify(x, w_approx.subs(y, 4).subs(a, 8).subs(b, 8).subs(solutions[n][2]), 'numpy')\n",
    "    w_approx_vals = w_approx_func(x_vals)\n",
    "    plt.plot(x_vals, w_approx_vals, label=f'Ritz Order {n} (Degree {min(4+n, 6)})')\n",
    "plt.xlabel('x (m)')\n",
    "plt.ylabel('Displacement w(x, b/2) (m)')\n",
    "plt.title('Kirchhoff Plate: Polynomial Approximations vs Analytical')\n",
    "plt.legend()\n",
    "plt.grid(True)\n",
    "plt.savefig('kirchhoff_plate_displacement.png')\n",
    "plt.close()\n",
    "\n",
    "# Plot potential energy convergence\n",
    "plt.figure(figsize=(10, 6))\n",
    "plt.plot(range(1, 7), potential_energies, 'bo-', label='Total Potential Energy')\n",
    "plt.xlabel('Ritz Order (Number of Terms)')\n",
    "plt.ylabel('Total Potential Energy (J)')\n",
    "plt.title('Convergence of Total Potential Energy')\n",
    "plt.legend()\n",
    "plt.grid(True)\n",
    "plt.savefig('kirchhoff_plate_energy_convergence.png')\n",
    "plt.close()\n",
    "\n",
    "# Print potential energies\n",
    "print(\"Total Potential Energy for Each Order:\")\n",
    "for n in range(1, 7):\n",
    "    print(f\"Order {n} (Degree {min(4+n, 6)}): {potential_energies[n-1]:.2e} J\")"
   ]
  },
  {
   "cell_type": "code",
   "execution_count": 41,
   "metadata": {},
   "outputs": [],
   "source": [
    "# Numerical evaluation along y = b/2\n",
    "x_vals = np.linspace(0, 8, 100)\n",
    "y_val = 4\n",
    "w_analytical_vals = w_analytical_func(x_vals, y_val)\n"
   ]
  },
  {
   "cell_type": "code",
   "execution_count": 53,
   "metadata": {},
   "outputs": [
    {
     "name": "stdout",
     "output_type": "stream",
     "text": [
      "Total Potential Energy for Each Order:\n",
      "Order 1 (Degree 5): -6.39e+02 J\n",
      "Order 2 (Degree 6): -6.94e+02 J\n",
      "Order 3 (Degree 6): -7.34e+02 J\n",
      "Order 4 (Degree 6): -7.36e+02 J\n",
      "Order 5 (Degree 6): -7.36e+02 J\n",
      "Order 6 (Degree 6): -7.37e+02 J\n"
     ]
    }
   ],
   "source": [
    "# Plot displacement\n",
    "plt.figure(figsize=(10, 6))\n",
    "plt.plot(x_vals, w_analytical_vals, 'k-', label='Analytical Solution', linewidth=2)\n",
    "for n in range(1, 7):\n",
    "    w_approx = solutions[n][3]\n",
    "    w_approx_func = lambdify(x, w_approx.subs(y, 4).subs(a, 8).subs(b, 8).subs(solutions[n][2]), 'numpy')\n",
    "    w_approx_vals = w_approx_func(x_vals)\n",
    "    plt.plot(x_vals, w_approx_vals, label=f'Ritz Order {n} (Degree {min(4+n, 6)})')\n",
    "plt.xlabel('x (m)')\n",
    "plt.ylabel('Displacement w(x, b/2) (m)')\n",
    "plt.title('Kirchhoff Plate: Polynomial Approximations vs Analytical')\n",
    "plt.legend()\n",
    "plt.grid(True)\n",
    "plt.savefig('kirchhoff_plate_displacement.png')\n",
    "plt.close()\n",
    "\n",
    "# Plot potential energy convergence\n",
    "plt.figure(figsize=(10, 6))\n",
    "plt.plot(range(1, 7), potential_energies, 'bo-', label='Total Potential Energy')\n",
    "plt.xlabel('Ritz Order (Number of Terms)')\n",
    "plt.ylabel('Total Potential Energy (J)')\n",
    "plt.title('Convergence of Total Potential Energy')\n",
    "plt.legend()\n",
    "plt.grid(True)\n",
    "plt.savefig('kirchhoff_plate_energy_convergence.png')\n",
    "plt.close()\n",
    "\n",
    "# Print potential energies\n",
    "print(\"Total Potential Energy for Each Order:\")\n",
    "for n in range(1, 7):\n",
    "    print(f\"Order {n} (Degree {min(4+n, 6)}): {potential_energies[n-1]:.2e} J\")"
   ]
  },
  {
   "cell_type": "code",
   "execution_count": 55,
   "metadata": {},
   "outputs": [],
   "source": [
    "# Compute for Order 6\n",
    "n = 6\n",
    "K, F = compute_system(n)\n",
    "c = Matrix(symbols(f'c1:{n+1}'))\n",
    "solution = solve(K * c - F, c)\n",
    "w_approx = sum(solution.get(symbols(f'c{i+1}'), 0) * phi[i] for i in range(n))"
   ]
  },
  {
   "cell_type": "code",
   "execution_count": 58,
   "metadata": {},
   "outputs": [
    {
     "name": "stdout",
     "output_type": "stream",
     "text": [
      "54.0033581920217⋅x⋅(x - 8) - 93.7873447592549⋅x⋅(y - 8) - 802.81967113921⋅x -  ↪\n",
      "\n",
      "↪ 28.1362034277766⋅y⋅(x - 8) + 180.011193973406⋅y⋅(y - 8) - 2676.06557046404⋅y ↪\n",
      "\n",
      "↪  - 60.9617740935157⋅(x - 8)⋅(y - 8) + 27831.081932826\n"
     ]
    }
   ],
   "source": [
    "# Compute M_x\n",
    "M_x = -D * (w_approx.diff(x, 2) + nu * w_approx.diff(y, 2))\n",
    "\n",
    "pprint(M_x)"
   ]
  },
  {
   "cell_type": "code",
   "execution_count": 59,
   "metadata": {},
   "outputs": [],
   "source": [
    "# Numerical evaluation\n",
    "x_vals = np.linspace(0, 8, 50)\n",
    "y_vals = np.linspace(0, 8, 50)\n",
    "X, Y = np.meshgrid(x_vals, y_vals)\n",
    "w_func = lambdify((x, y), w_approx.subs(a, 8).subs(b, 8).subs(solution), 'numpy')\n",
    "M_x_func = lambdify((x, y), M_x.subs(a, 8).subs(b, 8).subs(solution), 'numpy')\n",
    "w_vals = w_func(X, Y)\n",
    "M_x_vals = M_x_func(X, Y)"
   ]
  },
  {
   "cell_type": "code",
   "execution_count": 60,
   "metadata": {},
   "outputs": [],
   "source": [
    "# Plot w(x, y)\n",
    "fig = plt.figure(figsize=(10, 8))\n",
    "ax = fig.add_subplot(111, projection='3d')\n",
    "surf = ax.plot_surface(X, Y, w_vals, cmap='viridis')\n",
    "ax.set_xlabel('x (m)')\n",
    "ax.set_ylabel('y (m)')\n",
    "ax.set_zlabel('Displacement w(x, y) (m)')\n",
    "ax.set_title('Displacement w(x, y) for Order 6 Polynomial Approximation')\n",
    "fig.colorbar(surf, ax=ax, shrink=0.5, aspect=5)\n",
    "plt.savefig('kirchhoff_plate_displacement_3d.png')\n",
    "plt.close()"
   ]
  },
  {
   "cell_type": "code",
   "execution_count": 61,
   "metadata": {},
   "outputs": [],
   "source": [
    "# Plot M_x(x, y)\n",
    "fig = plt.figure(figsize=(10, 8))\n",
    "ax = fig.add_subplot(111, projection='3d')\n",
    "surf = ax.plot_surface(X, Y, M_x_vals, cmap='plasma')\n",
    "ax.set_xlabel('x (m)')\n",
    "ax.set_ylabel('y (m)')\n",
    "ax.set_zlabel('Moment M_x(x, y) (N·m/m)')\n",
    "ax.set_title('Moment M_x(x, y) for Order 6 Polynomial Approximation')\n",
    "fig.colorbar(surf, ax=ax, shrink=0.5, aspect=5)\n",
    "plt.savefig('kirchhoff_plate_moment_mx_3d.png')\n",
    "plt.close()"
   ]
  },
  {
   "cell_type": "code",
   "execution_count": 62,
   "metadata": {},
   "outputs": [],
   "source": [
    "# Analytical solution for reference (Navier’s method)\n",
    "m, n = symbols('m n', integer=True)\n",
    "w_mn = (16 * q0 / (pi**2 * m * n)) / (D * pi**4 * ((m**2 / a**2) + (n**2 / b**2))**2) * sin(m * pi * x / a) * sin(n * pi * y / b)\n",
    "w_analytical = 0\n",
    "m_max, n_max = 5, 5\n",
    "for i in range(1, m_max + 1, 2):\n",
    "    for j in range(1, n_max + 1, 2):\n",
    "        w_analytical += w_mn.subs({m: i, n: j})\n",
    "w_analytical_func = lambdify((x, y), w_analytical.subs({a: 8, b: 8, D: D, q0: 5e3}), 'numpy')\n",
    "w_analytical_vals = w_analytical_func(X, Y)\n",
    "\n",
    "# Plot analytical w(x, y)\n",
    "fig = plt.figure(figsize=(10, 8))\n",
    "ax = fig.add_subplot(111, projection='3d')\n",
    "surf = ax.plot_surface(X, Y, w_analytical_vals, cmap='viridis')\n",
    "ax.set_xlabel('x (m)')\n",
    "ax.set_ylabel('y (m)')\n",
    "ax.set_zlabel('Displacement w(x, y) (m)')\n",
    "ax.set_title('Analytical Displacement w(x, y)')\n",
    "fig.colorbar(surf, ax=ax, shrink=0.5, aspect=5)\n",
    "plt.savefig('kirchhoff_plate_analytical_displacement_3d.png')\n",
    "plt.close()"
   ]
  },
  {
   "cell_type": "code",
   "execution_count": null,
   "metadata": {},
   "outputs": [],
   "source": []
  }
 ],
 "metadata": {
  "kernelspec": {
   "display_name": ".venv",
   "language": "python",
   "name": "python3"
  },
  "language_info": {
   "codemirror_mode": {
    "name": "ipython",
    "version": 3
   },
   "file_extension": ".py",
   "mimetype": "text/x-python",
   "name": "python",
   "nbconvert_exporter": "python",
   "pygments_lexer": "ipython3",
   "version": "3.13.1"
  }
 },
 "nbformat": 4,
 "nbformat_minor": 2
}
