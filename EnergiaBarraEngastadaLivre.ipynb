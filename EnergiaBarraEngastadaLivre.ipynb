{
 "cells": [
  {
   "cell_type": "markdown",
   "metadata": {},
   "source": [
    "## Rotina para cálculo da energia potencial total utilizando computação simbólica"
   ]
  },
  {
   "cell_type": "code",
   "execution_count": 4,
   "metadata": {},
   "outputs": [],
   "source": [
    "# Importar todos os comandos da biblioteca sympy\n",
    "from sympy import *\n",
    "# Para uma impressão mais elegante:\n",
    "init_printing(use_unicode=True)\n",
    "# Declarar variáveis simbólicas\n",
    "x = Symbol('x')\n",
    "E = Symbol('E')\n",
    "A = Symbol('A')\n",
    "L,c,S0 = symbols('L c S0')"
   ]
  },
  {
   "cell_type": "markdown",
   "metadata": {},
   "source": [
    "### Cálculo de $\\Pi = U + W$"
   ]
  },
  {
   "cell_type": "code",
   "execution_count": 13,
   "metadata": {},
   "outputs": [
    {
     "data": {
      "image/png": "[encoded data removed]",
      "text/latex": [
       "$$- \\frac{S_{0} \\left(A L S_{0} + \\frac{L^{3} c}{3}\\right)}{E} + \\frac{7 L^{5} c^{2}}{120 A E} + \\frac{L^{3} \\left(- 2 A S_{0} c - L^{2} c^{2}\\right)}{4 A E} + \\frac{L \\left(4 A^{2} S_{0}^{2} + 4 A L^{2} S_{0} c + L^{4} c^{2}\\right)}{8 A E}$$"
      ],
      "text/plain": [
       "     ⎛          3  ⎞                                                          \n",
       "     ⎜         L ⋅c⎟                                                          \n",
       "  S₀⋅⎜A⋅L⋅S₀ + ────⎟      5  2    3 ⎛             2  2⎞     ⎛   2   2        2\n",
       "     ⎝          3  ⎠   7⋅L ⋅c    L ⋅⎝-2⋅A⋅S₀⋅c - L ⋅c ⎠   L⋅⎝4⋅A ⋅S₀  + 4⋅A⋅L \n",
       "- ────────────────── + ─────── + ────────────────────── + ────────────────────\n",
       "          E            120⋅A⋅E           4⋅A⋅E                          8⋅A⋅E \n",
       "\n",
       "              \n",
       "              \n",
       "         4  2⎞\n",
       "⋅S₀⋅c + L ⋅c ⎠\n",
       "──────────────\n",
       "              "
      ]
     },
     "execution_count": 13,
     "metadata": {},
     "output_type": "execute_result"
    }
   ],
   "source": [
    "# Solução analítica da ED da Barra 1D biengastada (u) e sua derivada primeira (du)\n",
    "u=(-c*x**3/6+c*L**2*x/2+A*S0*x)/(E*A)\n",
    "du=diff(u,x) #(-3*c*x**2/6+c*L**2/2+A*S0)/(E*A)\n",
    "# F = U+W\n",
    "F = (E*A/2)*(du**2)-c*x*u\n",
    "# Intregração de F\n",
    "integrate(F, (x, 0, L))-(-c*L**3/6+c*L**2*L/2+A*S0*L)/(E*A)*S0*A"
   ]
  },
  {
   "cell_type": "markdown",
   "metadata": {},
   "source": [
    "### Impressão do resultado numérico"
   ]
  },
  {
   "cell_type": "code",
   "execution_count": 12,
   "metadata": {},
   "outputs": [
    {
     "name": "stdout",
     "output_type": "stream",
     "text": [
      "Pi = \n"
     ]
    },
    {
     "data": {
      "image/png": "[encoded data removed]",
      "text/latex": [
       "$$-210.75$$"
      ],
      "text/plain": [
       "-210.750000000000"
      ]
     },
     "execution_count": 12,
     "metadata": {},
     "output_type": "execute_result"
    }
   ],
   "source": [
    "Pi=integrate(F, (x, 0, L))-(-c*L**3/6+c*L**2*L/2+A*S0*L)/(E*A)*S0*A\n",
    "print('Pi = ')\n",
    "Pi.subs([(E, 200e9), (A, 50e-6), (c, 10e3), (L, 3), (S0, 100e6)])"
   ]
  },
  {
   "cell_type": "markdown",
   "metadata": {},
   "source": [
    "### Impressão em linguagem Latex"
   ]
  },
  {
   "cell_type": "code",
   "execution_count": 7,
   "metadata": {},
   "outputs": [
    {
     "data": {
      "text/plain": [
       "'- \\\\frac{S_{0} \\\\left(A L S_{0} + \\\\frac{L^{3} c}{3}\\\\right)}{E} + \\\\frac{7 L^{5} c^{2}}{120 A E} + \\\\frac{L^{3} \\\\left(- 2 A S_{0} c - L^{2} c^{2}\\\\right)}{4 A E} + \\\\frac{L \\\\left(4 A^{2} S_{0}^{2} + 4 A L^{2} S_{0} c + L^{4} c^{2}\\\\right)}{8 A E}'"
      ]
     },
     "execution_count": 7,
     "metadata": {},
     "output_type": "execute_result"
    }
   ],
   "source": [
    "latex(integrate(F, (x, 0, L))-(-c*L**3/6+c*L**2*L/2+A*S0*L)/(E*A)*S0*A)"
   ]
  },
  {
   "cell_type": "markdown",
   "metadata": {},
   "source": [
    "### Podemos também simplificar uma equação:"
   ]
  },
  {
   "cell_type": "code",
   "execution_count": 8,
   "metadata": {},
   "outputs": [
    {
     "data": {
      "image/png": "[encoded data removed]",
      "text/latex": [
       "$$- \\frac{A L S_{0}^{2}}{2 E} - \\frac{L^{3} S_{0} c}{3 E} - \\frac{L^{5} c^{2}}{15 A E}$$"
      ],
      "text/plain": [
       "        2    3         5  2 \n",
       "  A⋅L⋅S₀    L ⋅S₀⋅c   L ⋅c  \n",
       "- ─────── - ─────── - ──────\n",
       "    2⋅E       3⋅E     15⋅A⋅E"
      ]
     },
     "execution_count": 8,
     "metadata": {},
     "output_type": "execute_result"
    }
   ],
   "source": [
    "# Pi poder ser simplificado para:\n",
    "simplify(integrate(F, (x, 0, L))-(-c*L**3/6+c*L**2*L/2+A*S0*L)/(E*A)*S0*A)"
   ]
  },
  {
   "cell_type": "code",
   "execution_count": null,
   "metadata": {},
   "outputs": [],
   "source": []
  }
 ],
 "metadata": {
  "kernelspec": {
   "display_name": "Python 3",
   "language": "python",
   "name": "python3"
  },
  "language_info": {
   "codemirror_mode": {
    "name": "ipython",
    "version": 3
   },
   "file_extension": ".py",
   "mimetype": "text/x-python",
   "name": "python",
   "nbconvert_exporter": "python",
   "pygments_lexer": "ipython3",
   "version": "3.7.3"
  }
 },
 "nbformat": 4,
 "nbformat_minor": 4
}
